{
 "cells": [
  {
   "cell_type": "markdown",
   "metadata": {},
   "source": [
    "# Molecules and Sites"
   ]
  },
  {
   "cell_type": "markdown",
   "metadata": {},
   "source": [
    "Molecules are derived from `chem2.Molecule` and represent collections of sites. The list of related sites is held in the attribute `sites`. Molecules can be subclassed indefinitely to create types and subtypes of molecules. They have the following attributes and methods:\n",
    "\n",
    "|Attribute|Setter|Getter|Unsetter\n",
    "|-|-|-|-|\n",
    "|`id`|`set_id(id)`|`get_id()`| |\n",
    "|`sites`|`add_sites(*sites)`|`get_sites(**kwargs)`|`remove_sites(*sites)`|\n",
    "\n",
    "Sites are derived from `chem2.Site` and represent functional substructures of a molecule. The molecule that a site is associated with is held in the attribute `molecule`. Sites can be subclassed indefinitely to create types and subtypes of sites. They have the following attributes and methods:\n",
    "\n",
    "|Attribute|Setter|Getter|Unsetter\n",
    "|-|-|-|-|\n",
    "|`id`|`set_id(id)`|`get_id()`| |\n",
    "|`molecule`|`set_molecule(molecule)`|`get_molecule()`|`unset_molecule()`|\n",
    "\n",
    "`add_sites()` and `set_molecule()` have the same functionality of setting up relations between sites and molecules. Similarly, `remove_sites()` and `unset_molecule()` have the same functionality of removing relations between sites and molecules.\n",
    "\n",
    "`get_sites()` is filterable on attribute and site type."
   ]
  },
  {
   "cell_type": "code",
   "execution_count": 1,
   "metadata": {},
   "outputs": [],
   "source": [
    "from wc_rules.chem2 import Molecule,Site"
   ]
  },
  {
   "cell_type": "markdown",
   "metadata": {},
   "source": [
    "Below we create the molecule hierarchy `Molecule -> Receptor -> EGFR`"
   ]
  },
  {
   "cell_type": "code",
   "execution_count": 2,
   "metadata": {},
   "outputs": [],
   "source": [
    "class Receptor(Molecule):pass\n",
    "class EGFR(Receptor):pass"
   ]
  },
  {
   "cell_type": "markdown",
   "metadata": {},
   "source": [
    "Similarly, from `Site`, we create 2 different types of sites."
   ]
  },
  {
   "cell_type": "code",
   "execution_count": 3,
   "metadata": {},
   "outputs": [],
   "source": [
    "class LigandBinding(Site):pass\n",
    "class Dimerize(Site):pass"
   ]
  },
  {
   "cell_type": "markdown",
   "metadata": {},
   "source": [
    "We create one instance of `EGFR` molecule, one instance of `LigandBinding` site and one instance of `Dimerize` site."
   ]
  },
  {
   "cell_type": "code",
   "execution_count": 16,
   "metadata": {},
   "outputs": [
    {
     "data": {
      "text/plain": [
       "['Rec', 'L', 'D']"
      ]
     },
     "execution_count": 16,
     "metadata": {},
     "output_type": "execute_result"
    }
   ],
   "source": [
    "Rec = EGFR().set_id('Rec')\n",
    "L = LigandBinding().set_id('L')\n",
    "D = Dimerize().set_id('D')\n",
    "\n",
    "[Rec.get_id(), L.get_id(), D.get_id()]"
   ]
  },
  {
   "cell_type": "markdown",
   "metadata": {},
   "source": [
    "The molecule instance named `Rec` can be against the `EGFR` class, the `Receptor` class and the `Molecule` class."
   ]
  },
  {
   "cell_type": "code",
   "execution_count": 19,
   "metadata": {},
   "outputs": [
    {
     "data": {
      "text/plain": [
       "True"
      ]
     },
     "execution_count": 19,
     "metadata": {},
     "output_type": "execute_result"
    }
   ],
   "source": [
    "isinstance(Rec,EGFR) and isinstance(Rec,Receptor) and isinstance(Rec,Molecule)"
   ]
  },
  {
   "cell_type": "markdown",
   "metadata": {},
   "source": [
    "Here, we show to use `add_sites()` to attach sites to a molecule, `remove_sites()` to detach sites from a molecule, and `get_sites()` to access and filter the list of associated sites."
   ]
  },
  {
   "cell_type": "code",
   "execution_count": 27,
   "metadata": {},
   "outputs": [
    {
     "data": {
      "text/plain": [
       "[<__main__.LigandBinding at 0x2835334d128>, <__main__.EGFR at 0x28353344630>]"
      ]
     },
     "execution_count": 27,
     "metadata": {},
     "output_type": "execute_result"
    }
   ],
   "source": [
    "Rec.add_sites(L,R)\n",
    "Rec.get_sites()"
   ]
  },
  {
   "cell_type": "code",
   "execution_count": 28,
   "metadata": {},
   "outputs": [
    {
     "data": {
      "text/plain": [
       "[<__main__.LigandBinding at 0x2835334d128>]"
      ]
     },
     "execution_count": 28,
     "metadata": {},
     "output_type": "execute_result"
    }
   ],
   "source": [
    "Rec.get_sites(id='L')"
   ]
  },
  {
   "cell_type": "code",
   "execution_count": 29,
   "metadata": {},
   "outputs": [
    {
     "data": {
      "text/plain": [
       "[<__main__.LigandBinding at 0x2835334d128>]"
      ]
     },
     "execution_count": 29,
     "metadata": {},
     "output_type": "execute_result"
    }
   ],
   "source": [
    "Rec.get_sites(site_type=LigandBinding)"
   ]
  },
  {
   "cell_type": "code",
   "execution_count": 31,
   "metadata": {},
   "outputs": [
    {
     "data": {
      "text/plain": [
       "[]"
      ]
     },
     "execution_count": 31,
     "metadata": {},
     "output_type": "execute_result"
    }
   ],
   "source": [
    "Rec.remove_sites(L,R)\n",
    "Rec.get_sites()"
   ]
  },
  {
   "cell_type": "code",
   "execution_count": 24,
   "metadata": {},
   "outputs": [
    {
     "data": {
      "text/plain": [
       "[<__main__.LigandBinding at 0x2835334d128>,\n",
       " <__main__.Dimerize at 0x2835334d198>]"
      ]
     },
     "execution_count": 24,
     "metadata": {},
     "output_type": "execute_result"
    }
   ],
   "source": [
    "Rec.add_sites(L,D)\n",
    "Rec.get_sites()"
   ]
  },
  {
   "cell_type": "markdown",
   "metadata": {},
   "source": [
    "An alternate way to do this would be"
   ]
  },
  {
   "cell_type": "code",
   "execution_count": 21,
   "metadata": {},
   "outputs": [
    {
     "data": {
      "text/plain": [
       "[<__main__.EGFR at 0x2835334d0f0>, <__main__.EGFR at 0x2835334d0f0>]"
      ]
     },
     "execution_count": 21,
     "metadata": {},
     "output_type": "execute_result"
    }
   ],
   "source": [
    "L.set_molecule(Rec)\n",
    "D.set_molecule(Rec)\n",
    "[L.get_molecule(), D.get_molecule()]"
   ]
  },
  {
   "cell_type": "markdown",
   "metadata": {},
   "source": [
    "To detach sites from molecules, we can do"
   ]
  },
  {
   "cell_type": "code",
   "execution_count": 25,
   "metadata": {},
   "outputs": [
    {
     "data": {
      "text/plain": [
       "[<__main__.Dimerize at 0x2835334d198>]"
      ]
     },
     "execution_count": 25,
     "metadata": {},
     "output_type": "execute_result"
    }
   ],
   "source": [
    "Rec.remove_sites(L)\n",
    "Rec.get_sites()"
   ]
  },
  {
   "cell_type": "markdown",
   "metadata": {},
   "source": [
    "An alternative would be to use the site instance method `unset_molecule()`."
   ]
  },
  {
   "cell_type": "code",
   "execution_count": 26,
   "metadata": {},
   "outputs": [
    {
     "data": {
      "text/plain": [
       "[]"
      ]
     },
     "execution_count": 26,
     "metadata": {},
     "output_type": "execute_result"
    }
   ],
   "source": [
    "D.unset_molecule()\n",
    "Rec.get_sites()"
   ]
  },
  {
   "cell_type": "code",
   "execution_count": null,
   "metadata": {},
   "outputs": [],
   "source": [
    "R1 = EGFR(id='R1').add_sites(\n",
    "    LigandBindingSite(id='L'),\n",
    "    DimerizationSite(id='D'),\n",
    "    TyrosineMotif(id='Y1'),\n",
    "    TyrosineMotif(id='Y2')\n",
    ")\n",
    "\n",
    "print([x.get_id() for x in R1.sites])"
   ]
  },
  {
   "cell_type": "markdown",
   "metadata": {},
   "source": [
    "To **access the sites on a molecule**, we recommend using __`get_sites(**kwargs)`__, which allows filtering the results based on scalar attribute or class types. To access a site's molecule, use **`get_molecule()`**."
   ]
  },
  {
   "cell_type": "code",
   "execution_count": null,
   "metadata": {
    "scrolled": true
   },
   "outputs": [],
   "source": [
    "site_list = R1.get_sites()\n",
    "print([x.get_id() for x in site_list])\n",
    "print([x.get_molecule().get_id() for x in site_list])\n",
    "\n",
    "site_list = R1.get_sites(site_type=TyrosineMotif)\n",
    "print([x.get_id() for x in site_list])\n",
    "     \n",
    "site_list = R1.get_sites(site_type=LigandBindingSite)\n",
    "print([x.get_id() for x in site_list])\n",
    "     \n",
    "site_list = R1.get_sites(site_type=TyrosineMotif,id='Y2')\n",
    "print([x.get_id() for x in site_list])"
   ]
  }
 ],
 "metadata": {
  "kernelspec": {
   "display_name": "Python 3",
   "language": "python",
   "name": "python3"
  },
  "language_info": {
   "codemirror_mode": {
    "name": "ipython",
    "version": 3
   },
   "file_extension": ".py",
   "mimetype": "text/x-python",
   "name": "python",
   "nbconvert_exporter": "python",
   "pygments_lexer": "ipython3",
   "version": "3.6.5"
  }
 },
 "nbformat": 4,
 "nbformat_minor": 2
}
