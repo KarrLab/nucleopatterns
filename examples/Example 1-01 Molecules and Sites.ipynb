{
 "cells": [
  {
   "cell_type": "markdown",
   "metadata": {},
   "source": [
    "# Molecules and Sites"
   ]
  },
  {
   "cell_type": "markdown",
   "metadata": {},
   "source": [
    "Molecules are derived from `chem2.Molecule` and represent collections of sites. Sites are derived from `chem2.Site` and represent functional substructures of a molecule. A molecule may be related to multiple sites, but a site may be related only to one molecule. Both molecules and sites may be subclassed from their base classes indefinitely many times.\n",
    "\n",
    "The `Molecule` object has a `site` attribute that holds the list of sites. Below is a summary of `Molecule` attributes and methods.\n",
    "\n",
    "|Attribute|Setter|Getter|Unsetter\n",
    "|-|-|-|-|\n",
    "|`id`|`set_id(id)`|`get_id()`| |\n",
    "|`sites`|`add_sites(*sites)`|`get_sites(**kwargs)`|`remove_sites(*sites)`|\n",
    "\n",
    "The `Site` object has a `molecule` attribute that points to a single molecule. Below is a summary of `Site\n",
    "\n",
    "|Attribute|Setter|Getter|Unsetter\n",
    "|-|-|-|-|\n",
    "|`id`|`set_id(id)`|`get_id()`| |\n",
    "|`molecule`|`set_molecule(molecule)`|`get_molecule()`|`unset_molecule()`|\n",
    "\n",
    "`add_sites()` and `set_molecule()` have the same functionality of setting up relations between sites and molecules. Similarly, `remove_sites()` and `unset_molecule()` have the same functionality of removing relations between sites and molecules.\n",
    "\n",
    "`get_sites()` is filterable on attribute and site type."
   ]
  },
  {
   "cell_type": "markdown",
   "metadata": {},
   "source": [
    "### Creating types & instances"
   ]
  },
  {
   "cell_type": "code",
   "execution_count": 1,
   "metadata": {},
   "outputs": [],
   "source": [
    "from wc_rules.chem2 import Molecule,Site"
   ]
  },
  {
   "cell_type": "markdown",
   "metadata": {},
   "source": [
    "Below we create the molecule type hierarchy `Molecule -> Receptor -> EGFR`"
   ]
  },
  {
   "cell_type": "code",
   "execution_count": 2,
   "metadata": {},
   "outputs": [],
   "source": [
    "class Receptor(Molecule):pass\n",
    "class EGFR(Receptor):pass"
   ]
  },
  {
   "cell_type": "markdown",
   "metadata": {},
   "source": [
    "Similarly, from `Site`, we create 2 different types of sites."
   ]
  },
  {
   "cell_type": "code",
   "execution_count": 3,
   "metadata": {},
   "outputs": [],
   "source": [
    "class LigandBinding(Site):pass\n",
    "class Dimerize(Site):pass"
   ]
  },
  {
   "cell_type": "markdown",
   "metadata": {},
   "source": [
    "We create one instance of `EGFR` molecule, one instance of `LigandBinding` site and one instance of `Dimerize` site."
   ]
  },
  {
   "cell_type": "code",
   "execution_count": 4,
   "metadata": {},
   "outputs": [
    {
     "data": {
      "text/plain": [
       "['Rec', 'L', 'D']"
      ]
     },
     "execution_count": 4,
     "metadata": {},
     "output_type": "execute_result"
    }
   ],
   "source": [
    "Rec = EGFR().set_id('Rec')\n",
    "L = LigandBinding().set_id('L')\n",
    "D = Dimerize().set_id('D')\n",
    "\n",
    "[Rec.get_id(), L.get_id(), D.get_id()]"
   ]
  },
  {
   "cell_type": "markdown",
   "metadata": {},
   "source": [
    "The molecule instance named `Rec` can be type-checked against the `EGFR` class, the `Receptor` class and the `Molecule` class."
   ]
  },
  {
   "cell_type": "code",
   "execution_count": 5,
   "metadata": {},
   "outputs": [
    {
     "data": {
      "text/plain": [
       "True"
      ]
     },
     "execution_count": 5,
     "metadata": {},
     "output_type": "execute_result"
    }
   ],
   "source": [
    "isinstance(Rec,EGFR) and isinstance(Rec,Receptor) and isinstance(Rec,Molecule)"
   ]
  },
  {
   "cell_type": "markdown",
   "metadata": {},
   "source": [
    "### Managing molecule-site relations"
   ]
  },
  {
   "cell_type": "markdown",
   "metadata": {},
   "source": [
    "|Function|`Molecule` method|`Site` method|\n",
    "|-|-|-|\n",
    "|Attach sites to a molecule|`add_sites(*sites)`|`set_molecule(molecule)`|\n",
    "|Detach sites from a molecule|`remove_sites(*sites)`|`unset_molecule(molecule)`|\n",
    "|Get/Filter the attached sites|`get_sites(**kwargs)`| |\n",
    "|Get the attached molecule| |`get_molecule()`|"
   ]
  },
  {
   "cell_type": "code",
   "execution_count": 6,
   "metadata": {},
   "outputs": [
    {
     "data": {
      "text/plain": [
       "[<__main__.LigandBinding at 0x19957f80e48>,\n",
       " <__main__.Dimerize at 0x19957f80eb8>]"
      ]
     },
     "execution_count": 6,
     "metadata": {},
     "output_type": "execute_result"
    }
   ],
   "source": [
    "# Adding sites with add_sites()\n",
    "Rec.add_sites(L,D)\n",
    "# Getting sites\n",
    "Rec.get_sites()"
   ]
  },
  {
   "cell_type": "code",
   "execution_count": 7,
   "metadata": {},
   "outputs": [
    {
     "data": {
      "text/plain": [
       "[<__main__.LigandBinding at 0x19957f80e48>]"
      ]
     },
     "execution_count": 7,
     "metadata": {},
     "output_type": "execute_result"
    }
   ],
   "source": [
    "# Filter sites by id\n",
    "Rec.get_sites(id='L')"
   ]
  },
  {
   "cell_type": "code",
   "execution_count": 8,
   "metadata": {},
   "outputs": [
    {
     "data": {
      "text/plain": [
       "[<__main__.LigandBinding at 0x19957f80e48>]"
      ]
     },
     "execution_count": 8,
     "metadata": {},
     "output_type": "execute_result"
    }
   ],
   "source": [
    "# Filter sites by site type\n",
    "Rec.get_sites(site_type=LigandBinding)"
   ]
  },
  {
   "cell_type": "code",
   "execution_count": 9,
   "metadata": {},
   "outputs": [
    {
     "data": {
      "text/plain": [
       "[]"
      ]
     },
     "execution_count": 9,
     "metadata": {},
     "output_type": "execute_result"
    }
   ],
   "source": [
    "# Removing sites with remove_sites()\n",
    "Rec.remove_sites(L,D)\n",
    "Rec.get_sites()"
   ]
  },
  {
   "cell_type": "code",
   "execution_count": 10,
   "metadata": {},
   "outputs": [
    {
     "data": {
      "text/plain": [
       "[<__main__.LigandBinding at 0x19957f80e48>,\n",
       " <__main__.Dimerize at 0x19957f80eb8>]"
      ]
     },
     "execution_count": 10,
     "metadata": {},
     "output_type": "execute_result"
    }
   ],
   "source": [
    "# Adding sites with set_molecule()\n",
    "L.set_molecule(Rec)\n",
    "D.set_molecule(Rec)\n",
    "Rec.get_sites()"
   ]
  },
  {
   "cell_type": "code",
   "execution_count": 11,
   "metadata": {},
   "outputs": [
    {
     "data": {
      "text/plain": [
       "<__main__.EGFR at 0x19957f80e10>"
      ]
     },
     "execution_count": 11,
     "metadata": {},
     "output_type": "execute_result"
    }
   ],
   "source": [
    "# Getting attached molecule\n",
    "L.get_molecule()"
   ]
  },
  {
   "cell_type": "code",
   "execution_count": 12,
   "metadata": {},
   "outputs": [
    {
     "data": {
      "text/plain": [
       "[]"
      ]
     },
     "execution_count": 12,
     "metadata": {},
     "output_type": "execute_result"
    }
   ],
   "source": [
    "# Removing sites with unset_molecule()\n",
    "L.unset_molecule()\n",
    "D.unset_molecule()\n",
    "Rec.get_sites()"
   ]
  },
  {
   "cell_type": "code",
   "execution_count": 13,
   "metadata": {},
   "outputs": [
    {
     "data": {
      "text/plain": [
       "[<__main__.LigandBinding at 0x19957f8e8d0>,\n",
       " <__main__.Dimerize at 0x19957f8e908>]"
      ]
     },
     "execution_count": 13,
     "metadata": {},
     "output_type": "execute_result"
    }
   ],
   "source": [
    "# Creating molecule/site instances and setting relations at the same time\n",
    "Rec = EGFR(id='Rec').add_sites(\n",
    "    LigandBinding(id='L'),\n",
    "    Dimerize(id='D'),\n",
    ")\n",
    "\n",
    "Rec.get_sites()"
   ]
  }
 ],
 "metadata": {
  "kernelspec": {
   "display_name": "Python 3",
   "language": "python",
   "name": "python3"
  },
  "language_info": {
   "codemirror_mode": {
    "name": "ipython",
    "version": 3
   },
   "file_extension": ".py",
   "mimetype": "text/x-python",
   "name": "python",
   "nbconvert_exporter": "python",
   "pygments_lexer": "ipython3",
   "version": "3.6.5"
  }
 },
 "nbformat": 4,
 "nbformat_minor": 2
}
