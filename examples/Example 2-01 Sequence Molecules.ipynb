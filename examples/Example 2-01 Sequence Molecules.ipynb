{
 "cells": [
  {
   "cell_type": "markdown",
   "metadata": {},
   "source": [
    "# Sequence Molecules (DNA, RNA & Protein Sequences)"
   ]
  },
  {
   "cell_type": "markdown",
   "metadata": {},
   "source": [
    "Sequence molecules are DNA, RNA and protein molecules whose structures are determined by an underlying molecular sequence. They are derived from `DNA`, `RNA` and `Protein` classes in the `bioseq` module. Note that any instantiation from these classes refers to a **single** strand of bases. For multi-stranded objects like double stranded DNA or DNA-RNA complexes, **each** strand will have to be instantiated separately.\n",
    "\n",
    "Internally, the type hierarchies for `DNA`, `RNA` and `Protein` are \n",
    "\n",
    "* `Molecule -> SequenceMolecule -> Polynucleotide -> DNA,RNA`\n",
    "* `Molecule -> SequenceMolecule -> Polypeptide -> Protein`"
   ]
  },
  {
   "cell_type": "markdown",
   "metadata": {},
   "source": [
    "### Methods Common to Sequence Molecules (DNA, RNA and Protein).\n",
    "\n",
    "All `SequenceMolecule` objects have a `sequence` attribute, which holds a reference to a `Bio.Seq.Seq` object from Biopython. During instantiation, set the `use_permissive_alphabet` to indicate whether a permissive alphabet is to be used (default) or a strict one, e.g., `GATCRYWSMKHBVDN` vs. `GATC`.\n",
    "\n",
    "|Instance Attribute|Setter|Getter|Unsetter|Modifier|\n",
    "|-|-|-|-|-|\n",
    "|`id`|`set_id()`|`get_id()`| | |\n",
    "|`sites`|`add_sites(*sites)`|`get_sites(**kwargs)`|`remove_sites(*sites)`| |\n",
    "|`sequence`|`set_sequence(inputstr)`|`get_sequence(**kwargs)`<br>`get_sequence_length()`| |`replace_sequence(**kwargs)`<br>`delete_sequence(**kwargs)`<br>`insert_sequence(**kwargs)`|"
   ]
  },
  {
   "cell_type": "markdown",
   "metadata": {},
   "source": [
    "The method __`get_sequence()`__ has the input signature \n",
    "\n",
    "`get_sequence(start=None,end=None,length=None,as_string=False)`. \n",
    "\n",
    "Sequences are indexed like Python strings, and a subsequence can be located given a `(start,end)` coordinate or a `(start,length)` coordinate. If both `end` and `length` are provided, `length` is ignored. `as_string` indicates whether the output is a pure Python string or a `Bio.Seq.Seq` object (by default)."
   ]
  },
  {
   "cell_type": "code",
   "execution_count": 1,
   "metadata": {},
   "outputs": [
    {
     "data": {
      "text/plain": [
       "Seq('TTGTTATCGTTACCGGGAGTGAGGCGTCCGCGTCCCTTTCAGGTCAAGCGACTG...AGA', IUPACUnambiguousDNA())"
      ]
     },
     "execution_count": 1,
     "metadata": {},
     "output_type": "execute_result"
    }
   ],
   "source": [
    "# create a DNA molecule with a particular sequence\n",
    "from wc_rules.bioseq import DNA, RNA, Protein\n",
    "inputstr = 'TTGTTATCGTTACCGGGAGTGAGGCGTCCGCGTCCCTTTCAGGTCAAGCGACTGAAAAACCTTGCAGTTGATTTTAAAGCGTATAGAAGACAATACAGA'\n",
    "dna1 = DNA(use_permissive_alphabet=False).set_sequence(inputstr)\n",
    "dna1.get_sequence()"
   ]
  },
  {
   "cell_type": "code",
   "execution_count": 2,
   "metadata": {},
   "outputs": [
    {
     "data": {
      "text/plain": [
       "Seq('TTGTTATCGTTACCGGGAGTGAGGCGTCCGCGTCCCTTTCAGGTCAAGCGACTG...AGA', IUPACUnambiguousDNA())"
      ]
     },
     "execution_count": 2,
     "metadata": {},
     "output_type": "execute_result"
    }
   ],
   "source": [
    "# Get entire sequence\n",
    "dna1.get_sequence()"
   ]
  },
  {
   "cell_type": "code",
   "execution_count": 3,
   "metadata": {},
   "outputs": [
    {
     "data": {
      "text/plain": [
       "Seq('CAATACAGA', IUPACUnambiguousDNA())"
      ]
     },
     "execution_count": 3,
     "metadata": {},
     "output_type": "execute_result"
    }
   ],
   "source": [
    "# Get a subsequence using (start,end)\n",
    "dna1.get_sequence(start=90,end=99)"
   ]
  },
  {
   "cell_type": "code",
   "execution_count": 4,
   "metadata": {},
   "outputs": [
    {
     "data": {
      "text/plain": [
       "Seq('CAATACAGA', IUPACUnambiguousDNA())"
      ]
     },
     "execution_count": 4,
     "metadata": {},
     "output_type": "execute_result"
    }
   ],
   "source": [
    "# Get a subsequence using (start,length)\n",
    "dna1.get_sequence(start=90,length=9)"
   ]
  },
  {
   "cell_type": "code",
   "execution_count": 5,
   "metadata": {},
   "outputs": [
    {
     "data": {
      "text/plain": [
       "Seq('CAATACAGA', IUPACUnambiguousDNA())"
      ]
     },
     "execution_count": 5,
     "metadata": {},
     "output_type": "execute_result"
    }
   ],
   "source": [
    "# Get a subsequence by unpacking a dict\n",
    "loc = dict(start=90,end=99)\n",
    "dna1.get_sequence(**loc)"
   ]
  },
  {
   "cell_type": "code",
   "execution_count": 6,
   "metadata": {},
   "outputs": [
    {
     "data": {
      "text/plain": [
       "'CAATACAGA'"
      ]
     },
     "execution_count": 6,
     "metadata": {},
     "output_type": "execute_result"
    }
   ],
   "source": [
    "# Output as string\n",
    "dna1.get_sequence(start=90,end=99,as_string=True)"
   ]
  },
  {
   "cell_type": "code",
   "execution_count": 7,
   "metadata": {},
   "outputs": [
    {
     "data": {
      "text/plain": [
       "99"
      ]
     },
     "execution_count": 7,
     "metadata": {},
     "output_type": "execute_result"
    }
   ],
   "source": [
    "# Get sequence length\n",
    "dna1.get_sequence_length()"
   ]
  },
  {
   "cell_type": "code",
   "execution_count": 8,
   "metadata": {},
   "outputs": [
    {
     "data": {
      "text/plain": [
       "9"
      ]
     },
     "execution_count": 8,
     "metadata": {},
     "output_type": "execute_result"
    }
   ],
   "source": [
    "# Get subsequence length, only (start,end) allowed\n",
    "dna1.get_sequence_length(start=90,end=99)"
   ]
  },
  {
   "cell_type": "markdown",
   "metadata": {},
   "source": [
    "### Methods common to Polynucleotide molecules (DNA and RNA)\n",
    "\n",
    "`Polynucleotide` objects, (i.e., DNA and RNA) have the following additional methods that read the molecular sequence, perform alphabet conversion, and return a sequence object (`Bio.Seq.Seq`):\n",
    "* __`get_DNA(**kwargs)`__, returns a DNA sequence \n",
    "* __`get_RNA(**kwargs)`__, returns an RNA sequence\n",
    "* __`get_protein(**kwargs)`__, returns a protein sequence \n",
    "\n",
    "The following kwargs are common to all three methods: `start=None`, `end=None`, `length=None`, `as_string=False`, `option='coding|complementary|reverse_complementary'`. \n",
    "\n",
    "`start,end,length` kwargs behave exactly the same as for `get_sequence()`.\n",
    "\n",
    "The `option` kwarg indicates how the sequence is processed:\n",
    "* `option=coding` calls `get_sequence()`, then performs alphabet conversion (default),\n",
    "* `option=complementary` calls `get_sequence()`, converts to complement, then performs alphabet conversion,\n",
    "* `option=reverse_complementary` calls `get_sequence()`, converts to reverse complement, then performs alphabet conversion.\n",
    "\n",
    "The `get_protein()` method has additional kwargs `table=1`,`to_stop=False`, which follow the recipe for the Biopython method `translate()`."
   ]
  },
  {
   "cell_type": "code",
   "execution_count": 9,
   "metadata": {},
   "outputs": [
    {
     "data": {
      "text/plain": [
       "Seq('TTGTTATCGTTACCGGGAGTGAGGCGTCCGCGTCCCTTTCAGGTCAAGCGACTG...AGA', IUPACUnambiguousDNA())"
      ]
     },
     "execution_count": 9,
     "metadata": {},
     "output_type": "execute_result"
    }
   ],
   "source": [
    "inputstr = 'TTGTTATCGTTACCGGGAGTGAGGCGTCCGCGTCCCTTTCAGGTCAAGCGACTGAAAAACCTTGCAGTTGATTTTAAAGCGTATAGAAGACAATACAGA'\n",
    "dna1 = DNA(use_permissive_alphabet=False).set_sequence(inputstr)\n",
    "dna1.get_sequence()"
   ]
  },
  {
   "cell_type": "code",
   "execution_count": 10,
   "metadata": {},
   "outputs": [
    {
     "data": {
      "text/plain": [
       "Seq('UCUGUAUUGUCUUCUAUACGCUUUAAAAUCAACUGCAAGGUUUUUCAGUCGCUU...CAA', IUPACUnambiguousRNA())"
      ]
     },
     "execution_count": 10,
     "metadata": {},
     "output_type": "execute_result"
    }
   ],
   "source": [
    "# Converting reverse complement to RNA, then initializing an RNA molecule\n",
    "seq1 = dna1.get_rna(option='reverse_complementary')\n",
    "rna1 = RNA(use_permissive_alphabet=False).set_sequence(seq1)\n",
    "rna1.get_sequence()"
   ]
  },
  {
   "cell_type": "code",
   "execution_count": 11,
   "metadata": {},
   "outputs": [
    {
     "data": {
      "text/plain": [
       "Seq('LLSLPGVRRPRPFQVKRLKNLAVDFKAYRRQYR', IUPACProtein())"
      ]
     },
     "execution_count": 11,
     "metadata": {},
     "output_type": "execute_result"
    }
   ],
   "source": [
    "# Converting coding sequence to protein, then initializing a protein molecule\n",
    "seq1 = dna1.get_protein()\n",
    "prot1 = Protein(use_permissive_alphabet=False).set_sequence(seq1)\n",
    "prot1.get_sequence()"
   ]
  },
  {
   "cell_type": "code",
   "execution_count": 12,
   "metadata": {},
   "outputs": [
    {
     "data": {
      "text/plain": [
       "Seq('VDFKAYRRQYR', IUPACProtein())"
      ]
     },
     "execution_count": 12,
     "metadata": {},
     "output_type": "execute_result"
    }
   ],
   "source": [
    "# Converting only a subset of the coding sequence to protein\n",
    "seq1 = dna1.get_protein(start=66,end=99)\n",
    "prot1 = Protein(use_permissive_alphabet=False).set_sequence(seq1)\n",
    "prot1.get_sequence()"
   ]
  }
 ],
 "metadata": {
  "kernelspec": {
   "display_name": "Python 3",
   "language": "python",
   "name": "python3"
  },
  "language_info": {
   "codemirror_mode": {
    "name": "ipython",
    "version": 3
   },
   "file_extension": ".py",
   "mimetype": "text/x-python",
   "name": "python",
   "nbconvert_exporter": "python",
   "pygments_lexer": "ipython3",
   "version": "3.6.5"
  }
 },
 "nbformat": 4,
 "nbformat_minor": 2
}
