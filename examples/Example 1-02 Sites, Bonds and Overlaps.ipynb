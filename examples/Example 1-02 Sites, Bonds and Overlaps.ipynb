{
 "cells": [
  {
   "cell_type": "markdown",
   "metadata": {},
   "source": [
    "# Sites, Bonds and Overlaps"
   ]
  },
  {
   "cell_type": "markdown",
   "metadata": {},
   "source": [
    "### Sites and Bonds"
   ]
  },
  {
   "cell_type": "markdown",
   "metadata": {},
   "source": [
    "Bonds are derived from `chem2.Bond` and indicate binding interactions between sites. By default, a bond may only have two sites and a site may only have one bond. \n",
    "\n",
    "The `Bond` object has a `sites` attribute which holds the pair of sites as a list. The following methods are available to `Bond` objects.\n",
    "\n",
    "|Instance Attribute|Setter|Getter|Unsetter|\n",
    "|-|-|-|-|\n",
    "|`id`|`set_id(id)`|`get_id()`| |\n",
    "|`sites`|`add_sites(*sites)`|`get_sites(**kwargs)`|`remove_sites(*sites)`|\n",
    "\n",
    "Bonds have internal class attributes that dictate bond behavior. These include:\n",
    "\n",
    "|Class Attribute|Default Value|Description|\n",
    "|-|-|-|\n",
    "|`allowed_site_types`|None|Tuple of allowed site classes|\n",
    "|`n_max_sites`|2|Maximum number of sites per bond|\n",
    "\n",
    "For the purpose of managing bonds, `Site` objects have the `bond` instance attribute and the `allowed_to_bind` class attribute.\n",
    "\n",
    "|Instance Attribute|Setter|Getter|Unsetter|\n",
    "|-|-|-|-|\n",
    "|`bond`|`set_bond(bond)`|`get_bond()`|`unset_bond()`|\n",
    "\n",
    "|Class Attribute|Default Value|Description|\n",
    "|-|-|-|\n",
    "|`allowed_to_bind`|True|Boolean controlling whether site can have a bond|\n"
   ]
  },
  {
   "cell_type": "markdown",
   "metadata": {},
   "source": [
    "### Managing Site-Bond Relations"
   ]
  },
  {
   "cell_type": "markdown",
   "metadata": {},
   "source": [
    "|Function|`Site` method|`Bond` method|\n",
    "|-|-|-|\n",
    "|Attach sites to a bond|`set_bond(bond)`|`add_sites(*sites)`|\n",
    "|Detach sites from a bond|`unset_bond()`|`remove_sites(*sites)`|\n",
    "|Get/Filter the attached sites| |`get_sites(**kwargs)`|\n",
    "|Get the attached bond|`get_molecule()`| |"
   ]
  },
  {
   "cell_type": "code",
   "execution_count": 1,
   "metadata": {},
   "outputs": [],
   "source": [
    "from wc_rules.chem2 import Molecule,Site,Bond"
   ]
  },
  {
   "cell_type": "code",
   "execution_count": 2,
   "metadata": {},
   "outputs": [],
   "source": [
    "# creating sites to use for bond\n",
    "class LigandBinding(Site):pass\n",
    "class ReceptorBinding(Site):pass\n",
    "s1,s2 = LigandBinding(id='s1'), ReceptorBinding(id='s2')"
   ]
  },
  {
   "cell_type": "code",
   "execution_count": 3,
   "metadata": {},
   "outputs": [
    {
     "data": {
      "text/plain": [
       "[<__main__.LigandBinding at 0x1b2a5cc15f8>,\n",
       " <__main__.ReceptorBinding at 0x1b2a5cc1630>]"
      ]
     },
     "execution_count": 3,
     "metadata": {},
     "output_type": "execute_result"
    }
   ],
   "source": [
    "# Attaching sites to a bond using add_sites()\n",
    "bnd = Bond(id='bnd').add_sites(s1,s2)\n",
    "# Getting sites attached to a bond\n",
    "bnd.get_sites()"
   ]
  },
  {
   "cell_type": "code",
   "execution_count": 4,
   "metadata": {},
   "outputs": [
    {
     "data": {
      "text/plain": [
       "[<__main__.LigandBinding at 0x1b2a5cc15f8>]"
      ]
     },
     "execution_count": 4,
     "metadata": {},
     "output_type": "execute_result"
    }
   ],
   "source": [
    "# Filtering attached sites by id\n",
    "bnd.get_sites(id='s1')"
   ]
  },
  {
   "cell_type": "code",
   "execution_count": 5,
   "metadata": {},
   "outputs": [
    {
     "data": {
      "text/plain": [
       "[]"
      ]
     },
     "execution_count": 5,
     "metadata": {},
     "output_type": "execute_result"
    }
   ],
   "source": [
    "# Removing attached sites using remove_sites()\n",
    "bnd.remove_sites(s1,s2)\n",
    "bnd.get_sites()"
   ]
  },
  {
   "cell_type": "code",
   "execution_count": 6,
   "metadata": {},
   "outputs": [
    {
     "data": {
      "text/plain": [
       "[<__main__.LigandBinding at 0x1b2a5cc15f8>,\n",
       " <__main__.ReceptorBinding at 0x1b2a5cc1630>]"
      ]
     },
     "execution_count": 6,
     "metadata": {},
     "output_type": "execute_result"
    }
   ],
   "source": [
    "# Attaching sites to a bond using set_bond()\n",
    "bnd = Bond(id='bnd')\n",
    "s1.set_bond(bnd)\n",
    "s2.set_bond(bnd)\n",
    "bnd.get_sites()"
   ]
  },
  {
   "cell_type": "code",
   "execution_count": 7,
   "metadata": {},
   "outputs": [
    {
     "data": {
      "text/plain": [
       "['bnd', 'bnd']"
      ]
     },
     "execution_count": 7,
     "metadata": {},
     "output_type": "execute_result"
    }
   ],
   "source": [
    "# Getting bond attached to sites\n",
    "[s1.get_bond().get_id(), s2.get_bond().get_id()]"
   ]
  },
  {
   "cell_type": "code",
   "execution_count": 8,
   "metadata": {},
   "outputs": [
    {
     "data": {
      "text/plain": [
       "[]"
      ]
     },
     "execution_count": 8,
     "metadata": {},
     "output_type": "execute_result"
    }
   ],
   "source": [
    "# Removing bond from sites using remove_bond()\n",
    "s1.unset_bond()\n",
    "s2.unset_bond()\n",
    "bnd.get_sites()"
   ]
  },
  {
   "cell_type": "code",
   "execution_count": 9,
   "metadata": {},
   "outputs": [
    {
     "name": "stdout",
     "output_type": "stream",
     "text": [
      "Allowed.\n",
      "Not allowed.\n"
     ]
    }
   ],
   "source": [
    "# Subclassing bonds to increase the number of allowed sites\n",
    "class TetramerBond(Bond):\n",
    "    n_max_sites = 4\n",
    "    \n",
    "bnd1 = TetramerBond().add_sites( Site(), Site(), Site(), Site() )\n",
    "bnd2 = Bond().add_sites( Site(), Site(), Site(), Site() )\n",
    "for x in [bnd1,bnd2]:\n",
    "    try:\n",
    "        x.verify_maximum_number_of_sites()\n",
    "        print('Allowed.')\n",
    "    except:\n",
    "        print('Not allowed.')"
   ]
  },
  {
   "cell_type": "markdown",
   "metadata": {},
   "source": [
    "### Sites and Overlaps"
   ]
  },
  {
   "cell_type": "markdown",
   "metadata": {},
   "source": [
    "Overlaps are groups of sites that can only have one bond at a time. They are used to reflect groups of sites that spatially overlap with each other.\n",
    "\n",
    "The `Overlap` object has a `sites` attribute which holds a list of sites. \n",
    "\n",
    "|Attribute|Setter|Getter|Unsetter|\n",
    "|-|-|-|-|\n",
    "|`id`|`set_id(id)`|`get_id()`| |\n",
    "|`sites`|`add_sites(*sites)`|`get_sites(**kwargs)`|`remove_sites(*sites)`|\n",
    "\n",
    "`Site` objects have the instance attribute `overlaps`, which holds a list of overlaps.\n",
    "\n",
    "|Attribute|Setter|Getter|Unsetter|\n",
    "|-|-|-|-|\n",
    "|`overlaps`|`add_overlaps(*overlaps)`|`get_overlaps(**kwargs)`|`remove_overlaps(*overlap)`|"
   ]
  },
  {
   "cell_type": "code",
   "execution_count": 10,
   "metadata": {},
   "outputs": [],
   "source": [
    "# Creating sites to use in overlaps\n",
    "s1,s2,s3 = Site(id='s1'), Site(id='s2'), Site(id='s3')"
   ]
  },
  {
   "cell_type": "code",
   "execution_count": 11,
   "metadata": {},
   "outputs": [
    {
     "data": {
      "text/plain": [
       "[<wc_rules.chem2.Site at 0x1b2a5cd9390>,\n",
       " <wc_rules.chem2.Site at 0x1b2a5cd93c8>]"
      ]
     },
     "execution_count": 11,
     "metadata": {},
     "output_type": "execute_result"
    }
   ],
   "source": [
    "# Adding overlaps using add_sites()\n",
    "from wc_rules.chem2 import Overlap\n",
    "olp1 = Overlap(id='olp1').add_sites(s1,s2)\n",
    "# Getting overlapping sites\n",
    "olp1.get_sites()"
   ]
  },
  {
   "cell_type": "code",
   "execution_count": 12,
   "metadata": {},
   "outputs": [
    {
     "data": {
      "text/plain": [
       "[<wc_rules.chem2.Site at 0x1b2a5cd9390>]"
      ]
     },
     "execution_count": 12,
     "metadata": {},
     "output_type": "execute_result"
    }
   ],
   "source": [
    "# Filtering overlapping sites\n",
    "olp1.get_sites(id='s1')"
   ]
  },
  {
   "cell_type": "code",
   "execution_count": 13,
   "metadata": {},
   "outputs": [
    {
     "data": {
      "text/plain": [
       "[]"
      ]
     },
     "execution_count": 13,
     "metadata": {},
     "output_type": "execute_result"
    }
   ],
   "source": [
    "# Remove overlaps using remove_sites()\n",
    "olp1.remove_sites(s1,s2)\n",
    "olp1.get_sites()"
   ]
  },
  {
   "cell_type": "code",
   "execution_count": 14,
   "metadata": {},
   "outputs": [
    {
     "data": {
      "text/plain": [
       "[<wc_rules.chem2.Site at 0x1b2a5cd9390>,\n",
       " <wc_rules.chem2.Site at 0x1b2a5cd93c8>]"
      ]
     },
     "execution_count": 14,
     "metadata": {},
     "output_type": "execute_result"
    }
   ],
   "source": [
    "# Add overlaps using add_overlaps()\n",
    "s1.add_overlaps(olp1)\n",
    "s2.add_overlaps(olp1)\n",
    "olp1.get_sites()"
   ]
  },
  {
   "cell_type": "code",
   "execution_count": 15,
   "metadata": {},
   "outputs": [
    {
     "data": {
      "text/plain": [
       "[<wc_rules.chem2.Overlap at 0x1b2a5cd95c0>]"
      ]
     },
     "execution_count": 15,
     "metadata": {},
     "output_type": "execute_result"
    }
   ],
   "source": [
    "# Get overlaps from site\n",
    "s1.get_overlaps()"
   ]
  },
  {
   "cell_type": "code",
   "execution_count": 16,
   "metadata": {},
   "outputs": [
    {
     "data": {
      "text/plain": [
       "[]"
      ]
     },
     "execution_count": 16,
     "metadata": {},
     "output_type": "execute_result"
    }
   ],
   "source": [
    "# Remove overlaps using remove_overlaps()\n",
    "s1.remove_overlaps(olp1)\n",
    "s2.remove_overlaps(olp1)\n",
    "olp1.get_sites()"
   ]
  },
  {
   "cell_type": "code",
   "execution_count": 17,
   "metadata": {},
   "outputs": [
    {
     "data": {
      "text/plain": [
       "[<wc_rules.chem2.Site at 0x1b2a5cd9390>,\n",
       " <wc_rules.chem2.Site at 0x1b2a5cd93c8>,\n",
       " <wc_rules.chem2.Site at 0x1b2a5cd9400>]"
      ]
     },
     "execution_count": 17,
     "metadata": {},
     "output_type": "execute_result"
    }
   ],
   "source": [
    "# An overlap may have many sites\n",
    "olp1 = Overlap(id='s1').add_sites(s1,s2,s3)\n",
    "olp1.get_sites()"
   ]
  },
  {
   "cell_type": "code",
   "execution_count": 18,
   "metadata": {},
   "outputs": [
    {
     "data": {
      "text/plain": [
       "[<wc_rules.chem2.Overlap at 0x1b2a5cf2438>,\n",
       " <wc_rules.chem2.Overlap at 0x1b2a5cf2470>]"
      ]
     },
     "execution_count": 18,
     "metadata": {},
     "output_type": "execute_result"
    }
   ],
   "source": [
    "# A site may have many overlaps\n",
    "olp1.remove_sites(s1,s2,s3)\n",
    "olp1 = Overlap(id='s1').add_sites(s1,s2)\n",
    "olp2 = Overlap(id='s1').add_sites(s1,s3)\n",
    "s1.get_overlaps()"
   ]
  }
 ],
 "metadata": {
  "kernelspec": {
   "display_name": "Python 3",
   "language": "python",
   "name": "python3"
  },
  "language_info": {
   "codemirror_mode": {
    "name": "ipython",
    "version": 3
   },
   "file_extension": ".py",
   "mimetype": "text/x-python",
   "name": "python",
   "nbconvert_exporter": "python",
   "pygments_lexer": "ipython3",
   "version": "3.6.5"
  }
 },
 "nbformat": 4,
 "nbformat_minor": 2
}
