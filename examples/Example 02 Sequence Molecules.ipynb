{
 "cells": [
  {
   "cell_type": "markdown",
   "metadata": {},
   "source": [
    "# Sequence Molecules (DNA, RNA & Protein Sequences)"
   ]
  },
  {
   "cell_type": "markdown",
   "metadata": {},
   "source": [
    "Sequence molecules are derived by inheritance from `Polynucleotide` and `Polypeptide` classes from `bioseq` module, which are themselves inherited from `chem2.Molecule`. They add a sequence property to molecules that can be queried and operated upon. Note that each molecule shown in this example defines a single polymeric strand. For objects like double-stranded DNA or DNA-RNA complexes, each of the two molecules would have to be represented separately."
   ]
  },
  {
   "cell_type": "markdown",
   "metadata": {},
   "source": [
    "## Instantiation"
   ]
  },
  {
   "cell_type": "markdown",
   "metadata": {},
   "source": [
    "Just like molecules (see Example 01), sequence molecules are instantiated by calling the respective constructor (`DNA()`,`RNA()`, `Protein()`) from `bioseq`, then using `set_sequence()` to set the sequence."
   ]
  },
  {
   "cell_type": "code",
   "execution_count": 9,
   "metadata": {},
   "outputs": [],
   "source": [
    "from wc_rules.bioseq import DNA, RNA, Protein\n",
    "inputstr = 'TTGTTATCGTTACCGGGAGTGAGGCGTCCGCGTCCCTTTCAGGTCAAGCGACTGAAAAACCTTGCAGTTGATTTTAAAGCGTATAGAAGACAATACAGA'\n",
    "dna1 = DNA(ambiguous=False).set_sequence(inputstr)"
   ]
  },
  {
   "cell_type": "markdown",
   "metadata": {},
   "source": [
    "## Accessing (Sub)-Sequences "
   ]
  },
  {
   "cell_type": "markdown",
   "metadata": {},
   "source": [
    "Sequences are indexed like Python strings, i.e., a sequence L bases long has bases indexed from 0 to L-1. The position L is also valid and refers to the position AFTER the last base. To get a subsequence from a sequence molecule, use `get_sequence()`, which has the input signature\n",
    "\n",
    "`get_sequence(start=None,end=None,length=None,as_string=False)`"
   ]
  },
  {
   "cell_type": "code",
   "execution_count": 10,
   "metadata": {},
   "outputs": [
    {
     "name": "stdout",
     "output_type": "stream",
     "text": [
      "TTGTTATCGTTACCGGGAGTGAGGCGTCCGCGTCCCTTTCAGGTCAAGCGACTGAAAAACCTTGCAGTTGATTTTAAAGCGTATAGAAGACAATACAGA\n"
     ]
    }
   ],
   "source": [
    "print(dna1.get_sequence())"
   ]
  },
  {
   "cell_type": "markdown",
   "metadata": {},
   "source": [
    "To get a subsequence, either provide (`start,end`) or (`start`,`length`)."
   ]
  },
  {
   "cell_type": "code",
   "execution_count": 11,
   "metadata": {},
   "outputs": [
    {
     "name": "stdout",
     "output_type": "stream",
     "text": [
      "CAATACAGA\n",
      "CAATACAGA\n"
     ]
    }
   ],
   "source": [
    "print(dna1.get_sequence(start=90,end=99))\n",
    "print(dna1.get_sequence(90,99))"
   ]
  },
  {
   "cell_type": "code",
   "execution_count": 12,
   "metadata": {},
   "outputs": [
    {
     "name": "stdout",
     "output_type": "stream",
     "text": [
      "CAATACAGA\n",
      "CAATACAGA\n"
     ]
    }
   ],
   "source": [
    "print(dna1.get_sequence(start=90,length=9))\n",
    "print(dna1.get_sequence(90,None,9))"
   ]
  },
  {
   "cell_type": "markdown",
   "metadata": {},
   "source": [
    "`get_sequence()` outputs a `Bio.Seq.Seq` object by default (`Bio`=Biopython). To get a pure string, use `as_string=True`. The method `get_sequence_length()` returns an `int` value equal to length of the sequence of subsequence."
   ]
  },
  {
   "cell_type": "markdown",
   "metadata": {},
   "source": [
    "## Converting Sequences"
   ]
  },
  {
   "cell_type": "markdown",
   "metadata": {},
   "source": [
    "To convert between DNA, RNA and protein sequences, the `DNA` and `RNA` objects provide the methods `get_dna()`, `get_rna()` and `get_protein()`. These methods use the `option` kwarg to define which sequence is to be converted: either the `coding` sequence read directly from the strand (default), the `complementary` sequence derived by directly converting each base to its complement, or the `reverse_complementary` sequence which is the reverse of the complement. "
   ]
  },
  {
   "cell_type": "markdown",
   "metadata": {},
   "source": [
    "Below we show an example of `get_dna()` method applied in three different modes to a `DNA` sequence molecule. "
   ]
  },
  {
   "cell_type": "code",
   "execution_count": 13,
   "metadata": {},
   "outputs": [
    {
     "name": "stdout",
     "output_type": "stream",
     "text": [
      "1: TTGTTATCGTTACCGGGAGTGAGGCGTCCGCGTCCCTTTCAGGTCAAGCGACTGAAAAACCTTGCAGTTGATTTTAAAGCGTATAGAAGACAATACAGA\n",
      "2: TTGTTATCGTTACCGGGAGTGAGGCGTCCGCGTCCCTTTCAGGTCAAGCGACTGAAAAACCTTGCAGTTGATTTTAAAGCGTATAGAAGACAATACAGA\n",
      "3: AACAATAGCAATGGCCCTCACTCCGCAGGCGCAGGGAAAGTCCAGTTCGCTGACTTTTTGGAACGTCAACTAAAATTTCGCATATCTTCTGTTATGTCT\n",
      "4: TCTGTATTGTCTTCTATACGCTTTAAAATCAACTGCAAGGTTTTTCAGTCGCTTGACCTGAAAGGGACGCGGACGCCTCACTCCCGGTAACGATAACAA\n"
     ]
    }
   ],
   "source": [
    "print('1: '+ dna1.get_sequence(as_string=True))\n",
    "print('2: '+ dna1.get_dna(option='coding',as_string=True))\n",
    "print('3: '+ dna1.get_dna(option='complementary',as_string=True))\n",
    "print('4: '+ dna1.get_dna(option='reverse_complementary',as_string=True))"
   ]
  },
  {
   "cell_type": "markdown",
   "metadata": {},
   "source": [
    "Similar to `get_sequence()`, the methods `get_dna()`, `get_rna()` and `get_protein()` can operate on subsequences defined by (`start`,`end`) or (`start`,`length`). For example, let us try to get the reverse-complementary RNA coded in the first 66 bases of `dna1` and instantiate a new `RNA` molecule."
   ]
  },
  {
   "cell_type": "code",
   "execution_count": 14,
   "metadata": {},
   "outputs": [
    {
     "name": "stdout",
     "output_type": "stream",
     "text": [
      "UGCAAGGUUUUUCAGUCGCUUGACCUGAAAGGGACGCGGACGCCUCACUCCCGGUAACGAUAACAA\n"
     ]
    }
   ],
   "source": [
    "seq = dna1.get_rna(option='reverse_complementary',start=0,length=66,as_string=True)\n",
    "rna1 = RNA().set_sequence(seq)\n",
    "print(rna1.get_sequence())"
   ]
  },
  {
   "cell_type": "markdown",
   "metadata": {},
   "source": [
    "Now let us try to get the protein sequence coded in the first 66 bases of `dna1` and instantiate a new `Protein` molecule."
   ]
  },
  {
   "cell_type": "code",
   "execution_count": 15,
   "metadata": {},
   "outputs": [
    {
     "name": "stdout",
     "output_type": "stream",
     "text": [
      "LLSLPGVRRPRPFQVKRLKNLA\n"
     ]
    }
   ],
   "source": [
    "seq = dna1.get_protein(option='coding',start=0,length=66,as_string=True)\n",
    "prot1 = Protein().set_sequence(seq)\n",
    "print(prot1.get_sequence())"
   ]
  }
 ],
 "metadata": {
  "kernelspec": {
   "display_name": "Python 3",
   "language": "python",
   "name": "python3"
  },
  "language_info": {
   "codemirror_mode": {
    "name": "ipython",
    "version": 3
   },
   "file_extension": ".py",
   "mimetype": "text/x-python",
   "name": "python",
   "nbconvert_exporter": "python",
   "pygments_lexer": "ipython3",
   "version": "3.6.5"
  }
 },
 "nbformat": 4,
 "nbformat_minor": 2
}
