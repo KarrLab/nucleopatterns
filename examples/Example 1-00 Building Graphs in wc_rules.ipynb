{
 "cells": [
  {
   "cell_type": "markdown",
   "metadata": {},
   "source": [
    "# Building Graphs in wc_rules"
   ]
  },
  {
   "cell_type": "markdown",
   "metadata": {},
   "source": [
    "In `wc_rules`, we are essentially constructing graph representations of chemical entities. The basic building blocks of the graph are \n",
    "* nodes, which include instances of molecules, sites and site-relations, and,\n",
    "* edges, which are bidirectional relations between molecules, sites and site-relations. \n",
    "\n",
    "To build this graph, one needs to know about :\n",
    "* subclasses\n",
    "* instances\n",
    "* relations\n",
    "* instance attribute methods"
   ]
  },
  {
   "cell_type": "markdown",
   "metadata": {},
   "source": [
    "### Subclasses"
   ]
  },
  {
   "cell_type": "markdown",
   "metadata": {},
   "source": [
    "Objects such as molecules, sites and site-relations are derived from generic base classes provided in `wc_rules`. To create various _types_ of these objects, one can simply subclass them as often as needed.\n",
    "\n",
    "Below, we create the type hierarchy\n",
    "* `Molecule -> A -> A1`\n",
    "\n",
    "where `A` is a subclass of molecule and `A1` is a subclass of `A`"
   ]
  },
  {
   "cell_type": "code",
   "execution_count": 1,
   "metadata": {},
   "outputs": [],
   "source": [
    "from wc_rules.chem2 import Molecule,Site\n",
    "\n",
    "class A(Molecule):\n",
    "    pass\n",
    "\n",
    "class A1(A):\n",
    "    pass"
   ]
  },
  {
   "cell_type": "markdown",
   "metadata": {},
   "source": [
    "### Instances"
   ]
  },
  {
   "cell_type": "markdown",
   "metadata": {},
   "source": [
    "Instances are created by calling the constructor of the class. These constitute the nodes of the graph."
   ]
  },
  {
   "cell_type": "code",
   "execution_count": 2,
   "metadata": {},
   "outputs": [
    {
     "data": {
      "text/plain": [
       "<__main__.A1 at 0x26322b71668>"
      ]
     },
     "execution_count": 2,
     "metadata": {},
     "output_type": "execute_result"
    }
   ],
   "source": [
    "a1_001 = A1()\n",
    "a1_001"
   ]
  },
  {
   "cell_type": "markdown",
   "metadata": {},
   "source": [
    "Instances typically have scalar attributes that can be set during construction. For example, all instances have an `id` attribute."
   ]
  },
  {
   "cell_type": "code",
   "execution_count": 3,
   "metadata": {},
   "outputs": [
    {
     "data": {
      "text/plain": [
       "'instance_001_of_A1'"
      ]
     },
     "execution_count": 3,
     "metadata": {},
     "output_type": "execute_result"
    }
   ],
   "source": [
    "a1_001 = A1(id='instance_001_of_A1')\n",
    "a1_001.id"
   ]
  },
  {
   "cell_type": "markdown",
   "metadata": {},
   "source": [
    "Instances can be type-checked against any parent class."
   ]
  },
  {
   "cell_type": "code",
   "execution_count": 4,
   "metadata": {},
   "outputs": [
    {
     "data": {
      "text/plain": [
       "True"
      ]
     },
     "execution_count": 4,
     "metadata": {},
     "output_type": "execute_result"
    }
   ],
   "source": [
    "isinstance(a1_001,A1) and isinstance(a1_001,A) and isinstance(a1_001,Molecule)"
   ]
  },
  {
   "cell_type": "markdown",
   "metadata": {},
   "source": [
    "### Relations"
   ]
  },
  {
   "cell_type": "markdown",
   "metadata": {},
   "source": [
    "Instances have _relations_ to each other, which constitute the edges of the graph. Relations are managed using pairs of attributes on each of the respective classes. For example, `Molecule` has a `sites` attribute that holds a list of site instances. `Site` has a `molecule` attribute that holds a single instance of a molecule. "
   ]
  },
  {
   "cell_type": "code",
   "execution_count": 5,
   "metadata": {},
   "outputs": [
    {
     "data": {
      "text/plain": [
       "([], None)"
      ]
     },
     "execution_count": 5,
     "metadata": {},
     "output_type": "execute_result"
    }
   ],
   "source": [
    "m,s = Molecule(), Site()\n",
    "m.sites, s.molecule"
   ]
  },
  {
   "cell_type": "code",
   "execution_count": 6,
   "metadata": {},
   "outputs": [
    {
     "data": {
      "text/plain": [
       "[<wc_rules.chem2.Site at 0x26322b71e10>]"
      ]
     },
     "execution_count": 6,
     "metadata": {},
     "output_type": "execute_result"
    }
   ],
   "source": [
    "m.sites.append(s)\n",
    "m.sites"
   ]
  },
  {
   "cell_type": "code",
   "execution_count": 7,
   "metadata": {},
   "outputs": [
    {
     "data": {
      "text/plain": [
       "<wc_rules.chem2.Molecule at 0x26322b71da0>"
      ]
     },
     "execution_count": 7,
     "metadata": {},
     "output_type": "execute_result"
    }
   ],
   "source": [
    "s.molecule"
   ]
  },
  {
   "cell_type": "markdown",
   "metadata": {},
   "source": [
    "The convention for attribute name is typically to use a singular name such as `molecule` if it refers to a single instance or a plural name such as `sites` if it refers to a list of instances."
   ]
  },
  {
   "cell_type": "markdown",
   "metadata": {},
   "source": [
    "### Instance Attribute Methods"
   ]
  },
  {
   "cell_type": "markdown",
   "metadata": {},
   "source": [
    "`wc_rules` provides setters, getters and unsetters for various instance attributes. For example, for the `id` attribute, we have `get_id()` and `set_id(id)`."
   ]
  },
  {
   "cell_type": "code",
   "execution_count": 8,
   "metadata": {},
   "outputs": [
    {
     "data": {
      "text/plain": [
       "'m_001'"
      ]
     },
     "execution_count": 8,
     "metadata": {},
     "output_type": "execute_result"
    }
   ],
   "source": [
    "m = Molecule()\n",
    "m.set_id('m_001')\n",
    "m.get_id()"
   ]
  },
  {
   "cell_type": "markdown",
   "metadata": {},
   "source": [
    "Typically, the following naming conventions are followed for getters, setters and unsetters:\n",
    "\n",
    "|Attribute type|Getter |Setter |Unsetter|\n",
    "|---|---|---|---|---|\n",
    "|Scalar|`get_*`|`set_*`| |\n",
    "|Object reference|`get_*`|`set_*`|`unset_*`|\n",
    "|List of object references|`get_*`|`add_*`|`remove_*`|"
   ]
  },
  {
   "cell_type": "markdown",
   "metadata": {},
   "source": [
    "Setters always \"return self\", so they can be chained indefinitely. For example,"
   ]
  },
  {
   "cell_type": "code",
   "execution_count": 9,
   "metadata": {},
   "outputs": [
    {
     "data": {
      "text/plain": [
       "[<wc_rules.chem2.Site at 0x26322b87320>,\n",
       " <wc_rules.chem2.Site at 0x26322b87358>]"
      ]
     },
     "execution_count": 9,
     "metadata": {},
     "output_type": "execute_result"
    }
   ],
   "source": [
    "m = Molecule().set_id('m_001').add_sites( Site(), Site() )\n",
    "m.sites"
   ]
  },
  {
   "cell_type": "markdown",
   "metadata": {},
   "source": [
    "Additional points to remember about instance attribute methods:\n",
    "* Each class may have additional inbuilt getters and setters with custom functionality.\n",
    "* The methods are inherited during subclassing.\n",
    "* Setters managing class relations can have redundant functionality, e.g., `Molecule.add_sites()` and `Site.set_molecule()` will have the same effect of establishing relations between molecules and sites."
   ]
  }
 ],
 "metadata": {
  "kernelspec": {
   "display_name": "Python 3",
   "language": "python",
   "name": "python3"
  },
  "language_info": {
   "codemirror_mode": {
    "name": "ipython",
    "version": 3
   },
   "file_extension": ".py",
   "mimetype": "text/x-python",
   "name": "python",
   "nbconvert_exporter": "python",
   "pygments_lexer": "ipython3",
   "version": "3.6.5"
  }
 },
 "nbformat": 4,
 "nbformat_minor": 2
}
