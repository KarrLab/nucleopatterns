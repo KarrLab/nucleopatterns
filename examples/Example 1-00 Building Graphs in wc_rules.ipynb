{
 "cells": [
  {
   "cell_type": "markdown",
   "metadata": {},
   "source": [
    "# Building Graphs in wc_rules"
   ]
  },
  {
   "cell_type": "markdown",
   "metadata": {},
   "source": [
    "In `wc_rules`, we are essentially constructing graph representations of chemical entities. The basic building blocks of the graph are \n",
    "* nodes, which include molecules, sites and site-relations, and,\n",
    "* edges, which are bidirectional relations between molecules, sites and site-relations. \n",
    "\n",
    "To build this graph, one needs to know about :\n",
    "* subclasses\n",
    "* instances\n",
    "* relatedness management\n",
    "* attribute querying\n",
    "\n",
    "`wc_rules` uses Python class inheritance to dictate types of molecules, sites and site-relations, and allows the modeler to freely subclass any of the provided types. For example, let us create the type hierarchy `Molecule -> Receptor -> EGFR`"
   ]
  },
  {
   "cell_type": "code",
   "execution_count": 1,
   "metadata": {},
   "outputs": [],
   "source": [
    "from wc_rules.chem2 import Molecule,Site\n",
    "\n",
    "class Receptor(Molecule):\n",
    "    pass\n",
    "\n",
    "class EGFR(Receptor):\n",
    "    pass"
   ]
  },
  {
   "cell_type": "markdown",
   "metadata": {},
   "source": [
    "To create instances of classes (nodes on the graph), simply call an empty constructor."
   ]
  },
  {
   "cell_type": "code",
   "execution_count": 2,
   "metadata": {},
   "outputs": [
    {
     "data": {
      "text/plain": [
       "<__main__.EGFR at 0x29ac2bde588>"
      ]
     },
     "execution_count": 2,
     "metadata": {},
     "output_type": "execute_result"
    }
   ],
   "source": [
    "x = EGFR()\n",
    "x"
   ]
  },
  {
   "cell_type": "markdown",
   "metadata": {},
   "source": [
    "Class inheritance allows instances to be type-checked against any parent class."
   ]
  },
  {
   "cell_type": "code",
   "execution_count": 3,
   "metadata": {},
   "outputs": [
    {
     "data": {
      "text/plain": [
       "True"
      ]
     },
     "execution_count": 3,
     "metadata": {},
     "output_type": "execute_result"
    }
   ],
   "source": [
    "isinstance(x,EGFR) and isinstance(x,Receptor) and isinstance(x,Molecule)"
   ]
  },
  {
   "cell_type": "markdown",
   "metadata": {},
   "source": [
    "Instance attributes often have `get_<>()` and `set_<>()` methods to allow access and instantiation. For example, to set and get the `id` attribute on instance `x`, we have `set_id(id)` and `get_id()`. The `set_<>()` methods always return the instance from which they are called."
   ]
  },
  {
   "cell_type": "code",
   "execution_count": 4,
   "metadata": {},
   "outputs": [
    {
     "data": {
      "text/plain": [
       "<__main__.EGFR at 0x29ac2bde588>"
      ]
     },
     "execution_count": 4,
     "metadata": {},
     "output_type": "execute_result"
    }
   ],
   "source": [
    "x.set_id('egfr_instance_001')"
   ]
  },
  {
   "cell_type": "code",
   "execution_count": 5,
   "metadata": {},
   "outputs": [
    {
     "data": {
      "text/plain": [
       "'egfr_instance_001'"
      ]
     },
     "execution_count": 5,
     "metadata": {},
     "output_type": "execute_result"
    }
   ],
   "source": [
    "x.get_id()"
   ]
  },
  {
   "cell_type": "markdown",
   "metadata": {},
   "source": [
    "Instance attributes also maintain the edges of the graph, a.k.a., _relations_. Typically a pair of attributes are involved in maintaining a particular type of relation between two classes. The convention we use is as follows:\n",
    "\n",
    "* If an instance of a class has a particular relation to many instances of another class, \n",
    "    * we use an attribute name that is plural,\n",
    "    * we use `add_<>s()` and `remove_<>s()` to manage these relations,\n",
    "    * we use `get_<>s()` to access the related instances.\n",
    "\n",
    "For example, a `Molecule` instance may be related to many `Site` instances, so it has an attribute `sites`, which holds a list of references to `Site` instances, and is managed using `add_sites()`, `remove_sites()` and `get_sites()`.\n",
    "\n",
    "* If an instance of a class has a particular relation to only a single instance of another class,\n",
    "    * we use an attribute name that is singular,\n",
    "    * we use `set_<>()` and `unset_<>()` to manage the relation,\n",
    "    * we use `get_<>()` to access the related instance.\n",
    "\n",
    "For example, a `Site` instance may be related to only one `Molecule` instance, so it has an attribute `molecule`, which holds a reference to a `Molecule` instance, and is managed by `set_molecule()`, `unset_molecule()` and `get_molecule()`.\n",
    "\n",
    "A relation can be set on either end, e.g., `Molecule.add_sites()` and `Site.set_molecule()` have the same outcome in creating a relation between a molecule and a site."
   ]
  },
  {
   "cell_type": "code",
   "execution_count": 6,
   "metadata": {},
   "outputs": [
    {
     "data": {
      "text/plain": [
       "[<wc_rules.chem2.Site at 0x29ac2bdefd0>]"
      ]
     },
     "execution_count": 6,
     "metadata": {},
     "output_type": "execute_result"
    }
   ],
   "source": [
    "# Using add_sites() to add s1 to m\n",
    "m = Molecule().set_id('m')\n",
    "s1 = Site().set_id('s1')\n",
    "\n",
    "m.add_sites(s1)\n",
    "m.get_sites()"
   ]
  },
  {
   "cell_type": "code",
   "execution_count": 7,
   "metadata": {},
   "outputs": [
    {
     "data": {
      "text/plain": [
       "<wc_rules.chem2.Molecule at 0x29ac2bdef98>"
      ]
     },
     "execution_count": 7,
     "metadata": {},
     "output_type": "execute_result"
    }
   ],
   "source": [
    "# Using set_molecule() to add s2 to m\n",
    "s2 = Site().set_id('s2')\n",
    "s2.set_molecule(m)\n",
    "s2.get_molecule()"
   ]
  },
  {
   "cell_type": "code",
   "execution_count": 8,
   "metadata": {},
   "outputs": [
    {
     "data": {
      "text/plain": [
       "[<wc_rules.chem2.Site at 0x29ac2bdefd0>,\n",
       " <wc_rules.chem2.Site at 0x29ac2bdee48>]"
      ]
     },
     "execution_count": 8,
     "metadata": {},
     "output_type": "execute_result"
    }
   ],
   "source": [
    "# m should have two sites now\n",
    "m.get_sites()"
   ]
  },
  {
   "cell_type": "markdown",
   "metadata": {},
   "source": [
    "The `add/remove/set/unset` methods all return the original object from which they are called and so can be chained."
   ]
  },
  {
   "cell_type": "code",
   "execution_count": 9,
   "metadata": {},
   "outputs": [
    {
     "data": {
      "text/plain": [
       "[<wc_rules.chem2.Site at 0x29ac2bdefd0>,\n",
       " <wc_rules.chem2.Site at 0x29ac2bdee48>,\n",
       " <wc_rules.chem2.Site at 0x29ac2bf8208>,\n",
       " <wc_rules.chem2.Site at 0x29ac2bf8240>,\n",
       " <wc_rules.chem2.Site at 0x29ac2bf8278>,\n",
       " <wc_rules.chem2.Site at 0x29ac2bf82b0>]"
      ]
     },
     "execution_count": 9,
     "metadata": {},
     "output_type": "execute_result"
    }
   ],
   "source": [
    "# Adding 3 more sites, then chaining and adding 1 more site\n",
    "m.add_sites( Site(), Site(), Site() ).add_sites( Site() )\n",
    "\n",
    "# m should have 6 sites now\n",
    "m.get_sites()"
   ]
  },
  {
   "cell_type": "markdown",
   "metadata": {},
   "source": [
    "If a `get_` method returns a list of instances, it can typically be used to also filter over that list, e.g.,"
   ]
  },
  {
   "cell_type": "code",
   "execution_count": 10,
   "metadata": {},
   "outputs": [
    {
     "data": {
      "text/plain": [
       "[<wc_rules.chem2.Site at 0x29ac2bdefd0>]"
      ]
     },
     "execution_count": 10,
     "metadata": {},
     "output_type": "execute_result"
    }
   ],
   "source": [
    "# filtering using the id attribute\n",
    "m.get_sites(id='s1')"
   ]
  }
 ],
 "metadata": {
  "kernelspec": {
   "display_name": "Python 3",
   "language": "python",
   "name": "python3"
  },
  "language_info": {
   "codemirror_mode": {
    "name": "ipython",
    "version": 3
   },
   "file_extension": ".py",
   "mimetype": "text/x-python",
   "name": "python",
   "nbconvert_exporter": "python",
   "pygments_lexer": "ipython3",
   "version": "3.6.5"
  }
 },
 "nbformat": 4,
 "nbformat_minor": 2
}
