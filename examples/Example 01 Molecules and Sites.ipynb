{
 "cells": [
  {
   "cell_type": "markdown",
   "metadata": {},
   "source": [
    "# Molecules and Sites"
   ]
  },
  {
   "cell_type": "markdown",
   "metadata": {},
   "source": [
    "## Molecule Types and Site Types"
   ]
  },
  {
   "cell_type": "markdown",
   "metadata": {},
   "source": [
    "In `wc_rules`, molecules have types defined hierarchically using class inheritance, starting from `chem2.Molecule`. Here we define `Receptor` and `Ligand` molecule types and specifically `EGFR` receptor type and `EGF` ligand type."
   ]
  },
  {
   "cell_type": "code",
   "execution_count": 1,
   "metadata": {},
   "outputs": [],
   "source": [
    "from wc_rules.chem2 import Molecule,Site"
   ]
  },
  {
   "cell_type": "code",
   "execution_count": 2,
   "metadata": {},
   "outputs": [],
   "source": [
    "class Receptor(Molecule):pass\n",
    "class EGFR(Receptor):pass\n",
    "\n",
    "class Ligand(Molecule):pass\n",
    "class EGF(Ligand):pass"
   ]
  },
  {
   "cell_type": "markdown",
   "metadata": {},
   "source": [
    "Similarly, types of sites are also defined hierarchically using class inheritance, starting from `chem2.Site`. Here we define `LigandBindingSite`, `DimerizationSite` and `TyrosineMotif` site types for receptor and `ReceptorBindingSite` type for ligand."
   ]
  },
  {
   "cell_type": "code",
   "execution_count": 3,
   "metadata": {},
   "outputs": [],
   "source": [
    "class LigandBindingSite(Site):pass\n",
    "class DimerizationSite(Site):pass\n",
    "class TyrosineMotif(Site):pass\n",
    "\n",
    "class ReceptorBindingSite(Site):pass"
   ]
  },
  {
   "cell_type": "markdown",
   "metadata": {},
   "source": [
    "## Instantiating Molecules and Sites\n"
   ]
  },
  {
   "cell_type": "markdown",
   "metadata": {},
   "source": [
    "Each molecule and site instance (either in a pattern or in a complex during simulation) is represented as a node. To instantiate a molecule or site, simply call the class constructor with empty arguments, or optionally, with the `id` argument. When building patterns, we use `id` attribute to distinguish between various instances of the same type."
   ]
  },
  {
   "cell_type": "code",
   "execution_count": 4,
   "metadata": {},
   "outputs": [
    {
     "name": "stdout",
     "output_type": "stream",
     "text": [
      "True\n",
      "True\n",
      "R1\n",
      "R1\n"
     ]
    }
   ],
   "source": [
    "# Creating receptor molecules\n",
    "R1 = EGFR().set_id('R1')\n",
    "R1 = EGFR(id='R1')\n",
    "\n",
    "# Testing inheritance of R1\n",
    "print(isinstance(R1,EGFR))\n",
    "print(isinstance(R1,Molecule))\n",
    "\n",
    "# Viewing R1's id\n",
    "print(R1.id)\n",
    "print(R1.get_id())"
   ]
  },
  {
   "cell_type": "markdown",
   "metadata": {},
   "source": [
    "We create one each of `LigandBindingSite` and `DimerizationSite` and two of `TyrosineMotif`."
   ]
  },
  {
   "cell_type": "code",
   "execution_count": 5,
   "metadata": {},
   "outputs": [],
   "source": [
    "# Creating sites\n",
    "L = LigandBindingSite().set_id('L')\n",
    "D = DimerizationSite().set_id('D')\n",
    "Y1 = TyrosineMotif().set_id('Y1')\n",
    "Y2 = TyrosineMotif().set_id('Y2')"
   ]
  },
  {
   "cell_type": "markdown",
   "metadata": {},
   "source": [
    "## Relationships between Molecules and Sites"
   ]
  },
  {
   "cell_type": "markdown",
   "metadata": {},
   "source": [
    "`Molecule.add_sites()` and `Site.set_molecule()` are used to assign container relationships between molecules and sites. A molecule may be associated with multiple sites, but a site can only be associated with one molecule. These relationships may be accessed directly using `molecule` and `sites` attributes or using getters `get_molecule()` and `get_sites()`"
   ]
  },
  {
   "cell_type": "code",
   "execution_count": 6,
   "metadata": {},
   "outputs": [
    {
     "name": "stdout",
     "output_type": "stream",
     "text": [
      "['R1', 'R1', 'R1', 'R1']\n",
      "['L', 'D', 'Y1', 'Y2']\n"
     ]
    }
   ],
   "source": [
    "# Equivalent ways of creating links betweeen molecules and sites\n",
    "R1.add_sites(L,D,Y1)\n",
    "Y2.set_molecule(R1)\n",
    "\n",
    "print([item.molecule.id for item in [L,D,Y1,Y2]])\n",
    "print([item.id for item in R1.sites])"
   ]
  },
  {
   "cell_type": "markdown",
   "metadata": {},
   "source": [
    "We recommend using getters instead of directly accessing attribute values."
   ]
  },
  {
   "cell_type": "code",
   "execution_count": 7,
   "metadata": {},
   "outputs": [
    {
     "name": "stdout",
     "output_type": "stream",
     "text": [
      "['R1', 'R1', 'R1', 'R1']\n",
      "['L', 'D', 'Y1', 'Y2']\n"
     ]
    }
   ],
   "source": [
    "print([item.get_molecule().get_id() for item in [L,D,Y1,Y2]])\n",
    "print([item.get_id() for item in R1.get_sites()])"
   ]
  },
  {
   "cell_type": "markdown",
   "metadata": {},
   "source": [
    "Molecule creation and site creation can be chained together."
   ]
  },
  {
   "cell_type": "code",
   "execution_count": 8,
   "metadata": {},
   "outputs": [
    {
     "name": "stdout",
     "output_type": "stream",
     "text": [
      "['L', 'D', 'Y1', 'Y2']\n",
      "['R']\n"
     ]
    }
   ],
   "source": [
    "R1 = EGFR(id='R1').add_sites(\n",
    "    LigandBindingSite(id='L'),\n",
    "    DimerizationSite(id='D'),\n",
    "    TyrosineMotif(id='Y1'),\n",
    "    TyrosineMotif(id='Y2')\n",
    ")\n",
    "\n",
    "L1 = EGF(id='L1').add_sites(\n",
    "    ReceptorBindingSite(id='R')\n",
    ")\n",
    "print([item.get_id() for item in R1.get_sites()])\n",
    "print([item.get_id() for item in L1.get_sites()])"
   ]
  }
 ],
 "metadata": {
  "kernelspec": {
   "display_name": "Python 3",
   "language": "python",
   "name": "python3"
  },
  "language_info": {
   "codemirror_mode": {
    "name": "ipython",
    "version": 3
   },
   "file_extension": ".py",
   "mimetype": "text/x-python",
   "name": "python",
   "nbconvert_exporter": "python",
   "pygments_lexer": "ipython3",
   "version": "3.6.5"
  }
 },
 "nbformat": 4,
 "nbformat_minor": 2
}
